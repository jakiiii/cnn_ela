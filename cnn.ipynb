{
 "cells": [
  {
   "cell_type": "code",
   "execution_count": 1,
   "id": "0bcbacd8",
   "metadata": {
    "papermill": {
     "duration": 0.055557,
     "end_time": "2022-04-23T17:11:32.835407",
     "exception": false,
     "start_time": "2022-04-23T17:11:32.779850",
     "status": "completed"
    },
    "tags": []
   },
   "outputs": [
    {
     "name": "stdout",
     "output_type": "stream",
     "text": [
      "['Tp', 'Au', 'CASIA 2 Groundtruth']\n"
     ]
    }
   ],
   "source": [
    "import os\n",
    "\n",
    "DATA_DIR = 'CASIA2/'\n",
    "print(os.listdir(DATA_DIR))"
   ]
  },
  {
   "cell_type": "code",
   "execution_count": 2,
   "id": "8659f6ce",
   "metadata": {
    "papermill": {
     "duration": 1.981778,
     "end_time": "2022-04-23T17:11:34.847063",
     "exception": false,
     "start_time": "2022-04-23T17:11:32.865285",
     "status": "completed"
    },
    "tags": []
   },
   "outputs": [],
   "source": [
    "from torch.utils.data import DataLoader\n",
    "from torchvision.datasets import ImageFolder\n",
    "import torchvision.transforms as T"
   ]
  },
  {
   "cell_type": "code",
   "execution_count": 3,
   "id": "f79769a0",
   "metadata": {
    "papermill": {
     "duration": 6.670687,
     "end_time": "2022-04-23T17:11:41.549306",
     "exception": false,
     "start_time": "2022-04-23T17:11:34.878619",
     "status": "completed"
    },
    "tags": []
   },
   "outputs": [
    {
     "name": "stderr",
     "output_type": "stream",
     "text": [
      "2023-10-06 16:30:16.688322: E tensorflow/compiler/xla/stream_executor/cuda/cuda_dnn.cc:9342] Unable to register cuDNN factory: Attempting to register factory for plugin cuDNN when one has already been registered\n",
      "2023-10-06 16:30:16.688355: E tensorflow/compiler/xla/stream_executor/cuda/cuda_fft.cc:609] Unable to register cuFFT factory: Attempting to register factory for plugin cuFFT when one has already been registered\n",
      "2023-10-06 16:30:16.688385: E tensorflow/compiler/xla/stream_executor/cuda/cuda_blas.cc:1518] Unable to register cuBLAS factory: Attempting to register factory for plugin cuBLAS when one has already been registered\n",
      "2023-10-06 16:30:16.695827: I tensorflow/core/platform/cpu_feature_guard.cc:182] This TensorFlow binary is optimized to use available CPU instructions in performance-critical operations.\n",
      "To enable the following instructions: AVX2 FMA, in other operations, rebuild TensorFlow with the appropriate compiler flags.\n",
      "2023-10-06 16:30:17.709365: W tensorflow/compiler/tf2tensorrt/utils/py_utils.cc:38] TF-TRT Warning: Could not find TensorRT\n"
     ]
    },
    {
     "data": {
      "text/plain": [
       "'2.14.0'"
      ]
     },
     "execution_count": 3,
     "metadata": {},
     "output_type": "execute_result"
    }
   ],
   "source": [
    "import numpy as np\n",
    "import matplotlib.pyplot as plt\n",
    "%matplotlib inline\n",
    "import tensorflow as tf\n",
    "np.random.seed(2)\n",
    "from sklearn.model_selection import train_test_split\n",
    "from sklearn.metrics import confusion_matrix\n",
    "from tensorflow.python.keras.utils.np_utils import to_categorical\n",
    "from tensorflow.keras.models import Sequential\n",
    "from tensorflow.keras.layers import Dense, Flatten, Conv2D, MaxPool2D, Dropout,BatchNormalization\n",
    "from tensorflow.keras.optimizers import Adam\n",
    "from tensorflow.keras.preprocessing.image import ImageDataGenerator\n",
    "from tensorflow.keras.callbacks import EarlyStopping\n",
    "from tensorflow.keras.models import model_from_json\n",
    "from PIL import Image, ImageChops, ImageEnhance\n",
    "import PIL\n",
    "import os\n",
    "import itertools\n",
    "from tqdm import tqdm\n",
    "tf.__version__"
   ]
  },
  {
   "cell_type": "code",
   "execution_count": 4,
   "id": "d70c45f8",
   "metadata": {
    "papermill": {
     "duration": 0.040927,
     "end_time": "2022-04-23T17:11:41.619149",
     "exception": false,
     "start_time": "2022-04-23T17:11:41.578222",
     "status": "completed"
    },
    "tags": []
   },
   "outputs": [],
   "source": [
    "def ELA(img_path, quality=90):\n",
    "    TEMP = 'ela_' + 'temp.jpg'\n",
    "    SCALE = 10\n",
    "    original = Image.open(img_path)\n",
    "    diff=\"\"\n",
    "    try:\n",
    "        original.save(TEMP, quality=90)\n",
    "        temporary = Image.open(TEMP)\n",
    "        diff = ImageChops.difference(original, temporary)\n",
    "        \n",
    "    except:\n",
    "        \n",
    "        original.convert('RGB').save(TEMP, quality=90)\n",
    "        temporary = Image.open(TEMP)\n",
    "        diff = ImageChops.difference(original.convert('RGB'), temporary)\n",
    "        \n",
    "       \n",
    "    d=diff.load()\n",
    "    WIDTH, HEIGHT = diff.size\n",
    "    for x in range(WIDTH):\n",
    "        for y in range(HEIGHT):\n",
    "            d[x, y] = tuple(k * SCALE for k in d[x, y])\n",
    "#     save_path = dataset_path +'ELA_IMAGES/'\n",
    "#     diff.save(save_path+'diff.png')\n",
    "    return diff"
   ]
  },
  {
   "cell_type": "code",
   "execution_count": 5,
   "id": "0d9f475c",
   "metadata": {
    "papermill": {
     "duration": 0.519125,
     "end_time": "2022-04-23T17:11:42.167247",
     "exception": false,
     "start_time": "2022-04-23T17:11:41.648122",
     "status": "completed"
    },
    "tags": []
   },
   "outputs": [],
   "source": [
    "dataset_path='CASIA2/'\n",
    "path_original = 'Au/'\n",
    "path_tampered = 'Tp/'\n",
    "# path_mask='CASIA 2 Groundtruth/'\n",
    "total_original = os.listdir(dataset_path+path_original)\n",
    "total_tampered = os.listdir(dataset_path+path_tampered)\n",
    "# total_mask=os.listdir(dataset_path+path_mask)"
   ]
  },
  {
   "cell_type": "code",
   "execution_count": 6,
   "id": "91c0c454",
   "metadata": {
    "papermill": {
     "duration": 0.043592,
     "end_time": "2022-04-23T17:11:42.240016",
     "exception": false,
     "start_time": "2022-04-23T17:11:42.196424",
     "status": "completed"
    },
    "tags": []
   },
   "outputs": [],
   "source": [
    "pristine_images = []\n",
    "for i in total_original:\n",
    "    pristine_images.append(dataset_path+path_original+i)\n",
    "fake_images = []\n",
    "for i in total_tampered:\n",
    "    fake_images.append(dataset_path+path_tampered+i)"
   ]
  },
  {
   "cell_type": "code",
   "execution_count": 7,
   "id": "abd5e1c5",
   "metadata": {
    "papermill": {
     "duration": 0.039705,
     "end_time": "2022-04-23T17:11:42.308495",
     "exception": false,
     "start_time": "2022-04-23T17:11:42.268790",
     "status": "completed"
    },
    "tags": []
   },
   "outputs": [
    {
     "data": {
      "text/plain": [
       "(7492, 5125)"
      ]
     },
     "execution_count": 7,
     "metadata": {},
     "output_type": "execute_result"
    }
   ],
   "source": [
    "len(pristine_images),len(fake_images)"
   ]
  },
  {
   "cell_type": "code",
   "execution_count": 8,
   "id": "c6d9f9a4",
   "metadata": {
    "papermill": {
     "duration": 0.038088,
     "end_time": "2022-04-23T17:11:42.377607",
     "exception": false,
     "start_time": "2022-04-23T17:11:42.339519",
     "status": "completed"
    },
    "tags": []
   },
   "outputs": [],
   "source": [
    "image_size = (224,224)\n",
    "output_path='../input/preprocessed-ela-images/'"
   ]
  },
  {
   "cell_type": "code",
   "execution_count": 9,
   "id": "b056578b",
   "metadata": {
    "papermill": {
     "duration": 0.047341,
     "end_time": "2022-04-23T17:11:42.453702",
     "exception": false,
     "start_time": "2022-04-23T17:11:42.406361",
     "status": "completed"
    },
    "tags": []
   },
   "outputs": [
    {
     "name": "stdout",
     "output_type": "stream",
     "text": [
      "images resized,path exists\n"
     ]
    }
   ],
   "source": [
    "output_path='../input/preprocessed-ela-images/'\n",
    "if not os.path.exists(output_path+\"resized_images/\"):\n",
    "#     os.makedirs(output_path+\"resized_images/fake_masks/\")\n",
    "    os.makedirs(output_path+\"resized_images/fake_images/\")\n",
    "    os.makedirs(output_path+\"resized_images/pristine_images/\")\n",
    "    height = 224\n",
    "    width = 224\n",
    "#     p2=output_path+\"resized_images/fake_masks/\"\n",
    "    p1=output_path+\"resized_images/fake_images/\"\n",
    "    p3=output_path+\"resized_images/pristine_images/\"\n",
    "    j=0\n",
    "    for fake_image in tqdm(total_tampered):\n",
    "        try:\n",
    "            if(j%1):\n",
    "                j+=1\n",
    "                continue\n",
    "            img=Image.open(dataset_path+path_tampered + fake_image).convert(\"RGB\")\n",
    "            img = img.resize((height, width), PIL.Image.ANTIALIAS)\n",
    "            img.save(p1+fake_image)\n",
    "            j+=1\n",
    "        except:\n",
    "            print(\"Encountered Invalid File : \",fake_image)\n",
    "        \n",
    "    j=0\n",
    "    for pristine_image in tqdm(total_original):\n",
    "        try:\n",
    "            if(j%1):\n",
    "                j+=1\n",
    "                continue\n",
    "            img=Image.open(dataset_path+path_original + pristine_image).convert(\"RGB\")\n",
    "            img = img.resize((height, width), PIL.Image.ANTIALIAS)\n",
    "            img.save(p3+pristine_image)\n",
    "            j+=1\n",
    "        except:\n",
    "            print(\"Invalid File : \" ,pristine_image)\n",
    "        \n",
    "        \n",
    "        \n",
    "else:\n",
    "    print('images resized,path exists')"
   ]
  },
  {
   "cell_type": "code",
   "execution_count": 10,
   "id": "9634a0ee",
   "metadata": {
    "papermill": {
     "duration": 0.34256,
     "end_time": "2022-04-23T17:11:42.825980",
     "exception": false,
     "start_time": "2022-04-23T17:11:42.483420",
     "status": "completed"
    },
    "tags": []
   },
   "outputs": [],
   "source": [
    "resized_fake_image_path=output_path+\"resized_images/fake_images/\"\n",
    "resized_pristine_image_path=output_path+\"resized_images/pristine_images/\"\n",
    "resized_fake_image=os.listdir(resized_fake_image_path)\n",
    "resized_pristine_image=os.listdir(resized_pristine_image_path)"
   ]
  },
  {
   "cell_type": "code",
   "execution_count": 11,
   "id": "3e1263f0",
   "metadata": {
    "papermill": {
     "duration": 0.039843,
     "end_time": "2022-04-23T17:11:42.895500",
     "exception": false,
     "start_time": "2022-04-23T17:11:42.855657",
     "status": "completed"
    },
    "tags": []
   },
   "outputs": [
    {
     "data": {
      "text/plain": [
       "(0, 0)"
      ]
     },
     "execution_count": 11,
     "metadata": {},
     "output_type": "execute_result"
    }
   ],
   "source": [
    "len(resized_fake_image), len(resized_pristine_image)"
   ]
  },
  {
   "cell_type": "code",
   "execution_count": 12,
   "id": "abd25a10",
   "metadata": {
    "papermill": {
     "duration": 0.046375,
     "end_time": "2022-04-23T17:11:42.976033",
     "exception": false,
     "start_time": "2022-04-23T17:11:42.929658",
     "status": "completed"
    },
    "tags": []
   },
   "outputs": [
    {
     "name": "stdout",
     "output_type": "stream",
     "text": [
      "Images are already converted to ELA\n"
     ]
    }
   ],
   "source": [
    "ela_images_path=output_path+'ELA_IMAGES/'\n",
    "ela_real=ela_images_path+'Au/'\n",
    "ela_fake=ela_images_path+'Tp/'\n",
    "if not os.path.exists(ela_images_path):\n",
    "    os.makedirs(ela_images_path)\n",
    "    os.mkdir(ela_real)\n",
    "    os.mkdir(ela_fake)\n",
    "    j=0\n",
    "    for i in tqdm(resized_fake_image):\n",
    "        ELA(resized_fake_image_path+i).save(ela_fake+i)\n",
    "        j+=1\n",
    "        if(j==15000):\n",
    "            break\n",
    "    j=0\n",
    "    for i in tqdm(resized_pristine_image):\n",
    "        ELA(resized_pristine_image_path+i).save(ela_real+i)\n",
    "        j+=1\n",
    "        if(j==15000):\n",
    "            break\n",
    "else:\n",
    "    print('Images are already converted to ELA')"
   ]
  },
  {
   "cell_type": "code",
   "execution_count": 13,
   "id": "59f4318f",
   "metadata": {
    "papermill": {
     "duration": 56.864167,
     "end_time": "2022-04-23T17:12:39.871462",
     "exception": false,
     "start_time": "2022-04-23T17:11:43.007295",
     "status": "completed"
    },
    "tags": []
   },
   "outputs": [
    {
     "name": "stderr",
     "output_type": "stream",
     "text": [
      "0it [00:00, ?it/s]\n",
      "0it [00:00, ?it/s]\n"
     ]
    }
   ],
   "source": [
    "X=[]\n",
    "Y=[]\n",
    "j=0\n",
    "for file in tqdm(os.listdir(ela_real)):\n",
    "    img=Image.open(ela_real+file)\n",
    "    img=np.array(img)\n",
    "    X.append(img)\n",
    "    Y.append(0)\n",
    "    j+=1\n",
    "    if(j==15000):\n",
    "        break\n",
    "j=0\n",
    "for file in tqdm(os.listdir(ela_fake)):\n",
    "    img=Image.open(ela_fake+file)\n",
    "    img=np.array(img)\n",
    "    X.append(img)\n",
    "    Y.append(1)\n",
    "    j+=1\n",
    "    if(j==15000):\n",
    "        break"
   ]
  },
  {
   "cell_type": "code",
   "execution_count": 14,
   "id": "68001b0b",
   "metadata": {
    "papermill": {
     "duration": 0.990118,
     "end_time": "2022-04-23T17:12:41.111386",
     "exception": false,
     "start_time": "2022-04-23T17:12:40.121268",
     "status": "completed"
    },
    "tags": []
   },
   "outputs": [
    {
     "data": {
      "text/plain": [
       "(0,)"
      ]
     },
     "execution_count": 14,
     "metadata": {},
     "output_type": "execute_result"
    }
   ],
   "source": [
    "X=np.array(X)\n",
    "X.shape"
   ]
  },
  {
   "cell_type": "code",
   "execution_count": 15,
   "id": "41ae3a8a",
   "metadata": {
    "papermill": {
     "duration": 0.927423,
     "end_time": "2022-04-23T17:12:42.287997",
     "exception": false,
     "start_time": "2022-04-23T17:12:41.360574",
     "status": "completed"
    },
    "tags": []
   },
   "outputs": [
    {
     "ename": "ModuleNotFoundError",
     "evalue": "No module named 'keras.utils.np_utils'",
     "output_type": "error",
     "traceback": [
      "\u001b[0;31m---------------------------------------------------------------------------\u001b[0m",
      "\u001b[0;31mModuleNotFoundError\u001b[0m                       Traceback (most recent call last)",
      "Cell \u001b[0;32mIn[15], line 2\u001b[0m\n\u001b[1;32m      1\u001b[0m \u001b[38;5;28;01mfrom\u001b[39;00m \u001b[38;5;21;01msklearn\u001b[39;00m\u001b[38;5;21;01m.\u001b[39;00m\u001b[38;5;21;01mmodel_selection\u001b[39;00m \u001b[38;5;28;01mimport\u001b[39;00m train_test_split\n\u001b[0;32m----> 2\u001b[0m \u001b[38;5;28;01mfrom\u001b[39;00m \u001b[38;5;21;01mkeras\u001b[39;00m\u001b[38;5;21;01m.\u001b[39;00m\u001b[38;5;21;01mutils\u001b[39;00m\u001b[38;5;21;01m.\u001b[39;00m\u001b[38;5;21;01mnp_utils\u001b[39;00m \u001b[38;5;28;01mimport\u001b[39;00m to_categorical\n\u001b[1;32m      4\u001b[0m x_train, x_dev, y_train, y_dev \u001b[38;5;241m=\u001b[39m train_test_split(X, Y, test_size\u001b[38;5;241m=\u001b[39m\u001b[38;5;241m0.2\u001b[39m, random_state\u001b[38;5;241m=\u001b[39m\u001b[38;5;241m133\u001b[39m,shuffle\u001b[38;5;241m=\u001b[39m\u001b[38;5;28;01mTrue\u001b[39;00m)\n\u001b[1;32m      5\u001b[0m y_train\u001b[38;5;241m=\u001b[39mto_categorical(y_train,\u001b[38;5;241m2\u001b[39m)\n",
      "\u001b[0;31mModuleNotFoundError\u001b[0m: No module named 'keras.utils.np_utils'"
     ]
    }
   ],
   "source": [
    "from sklearn.model_selection import train_test_split\n",
    "from keras.utils.np_utils import to_categorical\n",
    "\n",
    "x_train, x_dev, y_train, y_dev = train_test_split(X, Y, test_size=0.2, random_state=133,shuffle=True)\n",
    "y_train=to_categorical(y_train,2)\n",
    "y_dev=to_categorical(y_dev,2)\n",
    "print(len(x_train), len(y_train))\n",
    "print(len(x_dev), len(y_dev))"
   ]
  },
  {
   "cell_type": "code",
   "execution_count": null,
   "id": "4bef6179",
   "metadata": {
    "papermill": {
     "duration": 0.265029,
     "end_time": "2022-04-23T17:12:42.799100",
     "exception": false,
     "start_time": "2022-04-23T17:12:42.534071",
     "status": "completed"
    },
    "tags": []
   },
   "outputs": [],
   "source": [
    "from sklearn.model_selection import train_test_split\n",
    "from sklearn.metrics import confusion_matrix\n",
    "from keras.utils.np_utils import to_categorical\n",
    "from keras.models import Sequential\n",
    "from keras.layers import Dense, Flatten, Conv2D, MaxPool2D, Dropout\n",
    "from tensorflow.keras.optimizers import Adam\n",
    "from keras.preprocessing.image import ImageDataGenerator\n",
    "from keras.callbacks import EarlyStopping\n",
    "def CNN():\n",
    "    model = Sequential()\n",
    "    model.add(Conv2D(filters=128,kernel_size=(5,5),activation='relu',input_shape=(224,224,3)))\n",
    "    model.add(MaxPool2D(pool_size=(2,2)))\n",
    "    model.add(Conv2D(filters=256,kernel_size=(5,5),activation='relu'))\n",
    "    model.add(MaxPool2D(pool_size=(2,2)))\n",
    "    model.add(Flatten())\n",
    "    model.add(Dense(units=64,activation='relu'))\n",
    "    model.add(Dropout(0.5))\n",
    "    model.add(Dense(units=16,activation='relu'))\n",
    "    model.add(Dropout(0.5))\n",
    "    model.add(Dense(units=2,activation='softmax'))\n",
    "    return model"
   ]
  },
  {
   "cell_type": "code",
   "execution_count": null,
   "id": "b2460e15",
   "metadata": {
    "papermill": {
     "duration": 5.52226,
     "end_time": "2022-04-23T17:12:48.567544",
     "exception": false,
     "start_time": "2022-04-23T17:12:43.045284",
     "status": "completed"
    },
    "tags": []
   },
   "outputs": [],
   "source": [
    "model1=CNN()\n",
    "model1.summary()"
   ]
  },
  {
   "cell_type": "code",
   "execution_count": null,
   "id": "0718aed3",
   "metadata": {
    "papermill": {
     "duration": 0.279108,
     "end_time": "2022-04-23T17:12:49.099177",
     "exception": false,
     "start_time": "2022-04-23T17:12:48.820069",
     "status": "completed"
    },
    "tags": []
   },
   "outputs": [],
   "source": [
    "epochs = 5\n",
    "batch_size = 32\n",
    "init_lr = 1e-4\n",
    "\n",
    "optimizer = tf.keras.optimizers.legacy.Adam(learning_rate = init_lr, decay = init_lr/epochs)\n",
    "\n",
    "model1.compile(optimizer = optimizer, loss = 'binary_crossentropy', metrics = ['accuracy'])"
   ]
  },
  {
   "cell_type": "code",
   "execution_count": null,
   "id": "e8e09ed4",
   "metadata": {
    "papermill": {
     "duration": 0.264921,
     "end_time": "2022-04-23T17:12:49.617964",
     "exception": false,
     "start_time": "2022-04-23T17:12:49.353043",
     "status": "completed"
    },
    "tags": []
   },
   "outputs": [],
   "source": [
    "import keras\n",
    "\n",
    "early_stop = keras.callbacks.EarlyStopping(monitor='val_accuracy', patience=6,verbose=1,restore_best_weights=True)\n",
    "reduce_lr = keras.callbacks.ReduceLROnPlateau(monitor = 'val_accuracy', factor = 0.22, patience = 6, verbose = 1, \n",
    "                                              min_delta = 0.0001,min_lr=0.0001)"
   ]
  },
  {
   "cell_type": "code",
   "execution_count": null,
   "id": "7d58a344",
   "metadata": {
    "papermill": {
     "duration": 704.400344,
     "end_time": "2022-04-23T17:24:34.269899",
     "exception": false,
     "start_time": "2022-04-23T17:12:49.869555",
     "status": "completed"
    },
    "tags": []
   },
   "outputs": [],
   "source": [
    "hist = model1.fit(x_train,y_train,\n",
    "                 epochs = epochs,\n",
    "                validation_data = (x_dev,y_dev),\n",
    "                callbacks = [early_stop,reduce_lr],\n",
    "                verbose=1,shuffle=True)"
   ]
  },
  {
   "cell_type": "code",
   "execution_count": null,
   "id": "5d60d2c4",
   "metadata": {
    "papermill": {
     "duration": 42.513515,
     "end_time": "2022-04-23T17:25:20.006771",
     "exception": false,
     "start_time": "2022-04-23T17:24:37.493256",
     "status": "completed"
    },
    "tags": []
   },
   "outputs": [],
   "source": [
    "import matplotlib.pyplot as plt\n",
    "plt.plot(hist.history['accuracy'])\n",
    "plt.plot(hist.history['val_accuracy'])\n",
    "plt.title(\"Accuracy\")\n",
    "plt.xlabel('epoch')\n",
    "plt.ylabel('accuracy')\n",
    "plt.legend(['train','test'])\n",
    "plt.show()"
   ]
  },
  {
   "cell_type": "code",
   "execution_count": null,
   "id": "810134e2",
   "metadata": {
    "papermill": {
     "duration": 3.372404,
     "end_time": "2022-04-23T17:25:26.471444",
     "exception": false,
     "start_time": "2022-04-23T17:25:23.099040",
     "status": "completed"
    },
    "tags": []
   },
   "outputs": [],
   "source": [
    "plt.plot(hist.history['loss'])\n",
    "plt.plot(hist.history['val_loss'])\n",
    "plt.title(\"Loss\")\n",
    "plt.xlabel('epoch')\n",
    "plt.ylabel('loss')\n",
    "plt.legend(['train','test'])\n",
    "plt.show()"
   ]
  },
  {
   "cell_type": "code",
   "execution_count": null,
   "id": "7b8da75e",
   "metadata": {
    "papermill": {
     "duration": 3.472684,
     "end_time": "2022-04-23T17:25:33.402764",
     "exception": false,
     "start_time": "2022-04-23T17:25:29.930080",
     "status": "completed"
    },
    "tags": []
   },
   "outputs": [],
   "source": [
    "import itertools\n",
    "def plot_confusion_matrix(cm, classes,\n",
    "                          normalize=False,\n",
    "                          title='Confusion matrix',\n",
    "                          cmap=plt.cm.Blues):\n",
    "   \n",
    "    plt.imshow(cm, interpolation='nearest', cmap=cmap)\n",
    "    plt.title(title)\n",
    "    plt.colorbar()\n",
    "    tick_marks = np.arange(len(classes))\n",
    "    plt.xticks(tick_marks, classes, rotation=45)\n",
    "    plt.yticks(tick_marks, classes)\n",
    "\n",
    "    if normalize:\n",
    "        cm = cm.astype('float') / cm.sum(axis=1)[:, np.newaxis]\n",
    "\n",
    "    thresh = cm.max() / 2.\n",
    "    for i, j in itertools.product(range(cm.shape[0]), range(cm.shape[1])):\n",
    "        plt.text(j, i, cm[i, j],\n",
    "                 horizontalalignment=\"center\",\n",
    "                 color=\"white\" if cm[i, j] > thresh else \"black\")\n",
    "\n",
    "    plt.tight_layout()\n",
    "    plt.ylabel('True label')\n",
    "    plt.xlabel('Predicted label')\n",
    "def plot_confusion_matrix(cm, classes,\n",
    "                          normalize=False,\n",
    "                          title='Confusion matrix',\n",
    "                          cmap=plt.cm.Blues):\n",
    "  \n",
    "    plt.imshow(cm, interpolation='nearest', cmap=cmap)\n",
    "    plt.title(title)\n",
    "    plt.colorbar()\n",
    "    tick_marks = np.arange(len(classes))\n",
    "    plt.xticks(tick_marks, classes, rotation=45)\n",
    "    plt.yticks(tick_marks, classes)\n",
    "\n",
    "    if normalize:\n",
    "        cm = cm.astype('float') / cm.sum(axis=1)[:, np.newaxis]\n",
    "\n",
    "    thresh = cm.max() / 2.\n",
    "    for i, j in itertools.product(range(cm.shape[0]), range(cm.shape[1])):\n",
    "        plt.text(j, i, cm[i, j],\n",
    "                 horizontalalignment=\"center\",\n",
    "                 color=\"white\" if cm[i, j] > thresh else \"black\")\n",
    "\n",
    "    plt.tight_layout()\n",
    "    plt.ylabel('True label')\n",
    "    plt.xlabel('Predicted label')"
   ]
  },
  {
   "cell_type": "code",
   "execution_count": null,
   "id": "9db9c812",
   "metadata": {
    "papermill": {
     "duration": 6.899514,
     "end_time": "2022-04-23T17:25:43.685630",
     "exception": false,
     "start_time": "2022-04-23T17:25:36.786116",
     "status": "completed"
    },
    "tags": []
   },
   "outputs": [],
   "source": [
    "Y_pred = model1.predict(x_dev)\n",
    "Y_pred_classes = np.argmax(Y_pred,axis = 1) \n",
    "Y_true = np.argmax(y_dev,axis = 1) \n",
    "confusion_mtx = confusion_matrix(Y_true, Y_pred_classes) \n",
    "plot_confusion_matrix(confusion_mtx, classes = range(2))"
   ]
  },
  {
   "cell_type": "code",
   "execution_count": null,
   "id": "40cce6dc",
   "metadata": {
    "papermill": {
     "duration": 3.112492,
     "end_time": "2022-04-23T17:25:49.875237",
     "exception": false,
     "start_time": "2022-04-23T17:25:46.762745",
     "status": "completed"
    },
    "tags": []
   },
   "outputs": [],
   "source": [
    "from sklearn.metrics import classification_report\n",
    "print(classification_report(Y_true, Y_pred_classes))"
   ]
  }
 ],
 "metadata": {
  "kernelspec": {
   "display_name": "Python 3 (ipykernel)",
   "language": "python",
   "name": "python3"
  },
  "language_info": {
   "codemirror_mode": {
    "name": "ipython",
    "version": 3
   },
   "file_extension": ".py",
   "mimetype": "text/x-python",
   "name": "python",
   "nbconvert_exporter": "python",
   "pygments_lexer": "ipython3",
   "version": "3.10.12"
  },
  "papermill": {
   "default_parameters": {},
   "duration": 874.168123,
   "end_time": "2022-04-23T17:25:57.139747",
   "environment_variables": {},
   "exception": null,
   "input_path": "__notebook__.ipynb",
   "output_path": "__notebook__.ipynb",
   "parameters": {},
   "start_time": "2022-04-23T17:11:22.971624",
   "version": "2.3.3"
  }
 },
 "nbformat": 4,
 "nbformat_minor": 5
}
